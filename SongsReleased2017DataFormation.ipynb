{
 "cells": [
  {
   "cell_type": "code",
   "execution_count": null,
   "metadata": {
    "scrolled": false
   },
   "outputs": [],
   "source": [
    "import spotipy\n",
    "import pprint\n",
    "import json\n",
    "from spotipy.oauth2 import SpotifyClientCredentials\n",
    "import pandas as pd\n",
    "import numpy as np\n",
    "\n",
    "keys = {}\n",
    "i=0\n",
    "\n",
    "def getAudioFeature(id):\n",
    "    feature = sp.audio_features(id)\n",
    "    if feature[0]:\n",
    "        s = pd.Series([feature[(0)]['danceability'], feature[(0)]['energy'], feature[(0)]['key'], feature[(0)]['loudness'],\n",
    "                   feature[(0)]['mode'], feature[(0)]['speechiness'], feature[(0)]['acousticness'], feature[(0)]['instrumentalness'],\n",
    "                   feature[(0)]['liveness'], feature[(0)]['valence'], feature[(0)]['tempo'], feature[(0)]['duration_ms'],\n",
    "                   feature[(0)]['time_signature'] ],\n",
    "                   index=['Danceability', 'Energy', 'Key', 'Loudness', 'Mode', 'Speechiness',\n",
    "                          'Acousticness', 'Instrumentalness', 'Liveness', 'Valence', 'Tempo',\n",
    "                          'Duration_ms', 'Time_signature'])\n",
    "        return s\n",
    "    else:\n",
    "        return pd.Series()\n",
    "\n",
    "\n",
    "with open('keys.txt') as fp:\n",
    "    for line in fp:\n",
    "        keys[i] = line\n",
    "        i = i+1\n",
    "print(keys[0])\n",
    "print(keys[1])\n",
    "client_credentials_manager = SpotifyClientCredentials(client_id= keys[0],client_secret= keys[1])\n",
    "sp = spotipy.Spotify(client_credentials_manager=client_credentials_manager)\n",
    "\n",
    "songTest = pd.DataFrame(columns=['Song Name','Artists Name', 'Danceability', 'Energy',\n",
    "                                 'Key', 'Loudness', 'Mode', 'Speechiness', 'Acousticness', 'Instrumentalness',\n",
    "                                 'Liveness', 'Valence', 'Tempo', 'Duration_ms', 'Time_signature'])\n",
    "\n",
    "results = sp.search(q='year:2017', market='US', type='track', limit = 50, offset = 0)\n",
    "offset = 0\n",
    "while(results['tracks']['items']):\n",
    "    for element in results['tracks']['items']:\n",
    "        artistList = []\n",
    "        for artist in element['artists']:\n",
    "            artistList.append(artist['name'])\n",
    "\n",
    "        artistString = \",\".join(artistList)\n",
    "        s = pd.Series(element['name'], index=['Song Name'])\n",
    "        s = s.append(pd.Series(artistString, index=['Artists Name']))\n",
    "        audioFeature = getAudioFeature(element['id'])\n",
    "        if not audioFeature.empty:\n",
    "            s = s.append(audioFeature)\n",
    "            songTest = songTest.append(s,ignore_index=True)\n",
    "    if not results['tracks']['next']:\n",
    "        results['tracks']['items'] = False\n",
    "    else:\n",
    "        offset = offset + 50\n",
    "        print(offset)\n",
    "        results = sp.search(q='year:2017', market='US', type='track', limit = 50, offset = offset) "
   ]
  },
  {
   "cell_type": "code",
   "execution_count": null,
   "metadata": {},
   "outputs": [],
   "source": [
    "songTest.to_csv('SongReleased2017WithFeatures.csv')"
   ]
  },
  {
   "cell_type": "code",
   "execution_count": null,
   "metadata": {
    "collapsed": true
   },
   "outputs": [],
   "source": []
  }
 ],
 "metadata": {
  "kernelspec": {
   "display_name": "Python 3",
   "language": "python",
   "name": "python3"
  },
  "language_info": {
   "codemirror_mode": {
    "name": "ipython",
    "version": 3
   },
   "file_extension": ".py",
   "mimetype": "text/x-python",
   "name": "python",
   "nbconvert_exporter": "python",
   "pygments_lexer": "ipython3",
   "version": "3.6.1"
  }
 },
 "nbformat": 4,
 "nbformat_minor": 2
}
