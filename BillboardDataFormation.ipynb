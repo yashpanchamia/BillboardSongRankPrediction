{
 "cells": [
  {
   "cell_type": "code",
   "execution_count": null,
   "metadata": {},
   "outputs": [],
   "source": [
    "import billboard\n",
    "import pandas as pd\n",
    "import datetime\n",
    "\n",
    "threshold_date = datetime.datetime.strptime(\"12/31/2016\", \"%m/%d/%Y\")\n",
    "chartData = pd.DataFrame(columns = ['Name','Artists'])\n",
    "index = 0\n",
    " \n",
    "chart = billboard.ChartData('hot-100')\n",
    "chartDataList = []\n",
    "for i in range(100):\n",
    "    chartDataList.append(str(chart[i]))\n",
    "    chartData.loc[index]= [str(chart[i].title),\",\".join(map(str.strip,((chart[i].artist).replace('Featuring','&').split('&'))))]\n",
    "    index += 1\n",
    "\n",
    "chart = billboard.ChartData('hot-100', chart.previousDate)\n",
    "chart_previous_date = datetime.datetime.strptime(chart.previousDate, '%Y-%m-%d')\n",
    "\n",
    "print(chart_previous_date)\n",
    "while chart.previousDate and (chart_previous_date > threshold_date):\n",
    "    chartDataList = []\n",
    "    for i in range(100):\n",
    "        chartDataList.append(str(chart[i].title))\n",
    "        chartData.loc[index]= [str(chart[i].title),\",\".join(map(str.strip,((chart[i].artist).replace('Featuring','&').split('&'))))]\n",
    "        index += 1\n",
    "\n",
    "    temp = pd.DataFrame(chartDataList)\n",
    "    \n",
    "    chart = billboard.ChartData('hot-100', chart.previousDate)\n",
    "    chart_previous_date = datetime.datetime.strptime(chart.previousDate, '%Y-%m-%d')\n",
    "    print(chart_previous_date)"
   ]
  },
  {
   "cell_type": "code",
   "execution_count": null,
   "metadata": {
    "collapsed": true
   },
   "outputs": [],
   "source": [
    "chartData.drop_duplicates().reset_index(drop=True).to_csv('Billboard2017Songs.csv')"
   ]
  }
 ],
 "metadata": {
  "kernelspec": {
   "display_name": "Python 3",
   "language": "python",
   "name": "python3"
  },
  "language_info": {
   "codemirror_mode": {
    "name": "ipython",
    "version": 3
   },
   "file_extension": ".py",
   "mimetype": "text/x-python",
   "name": "python",
   "nbconvert_exporter": "python",
   "pygments_lexer": "ipython3",
   "version": "3.6.1"
  }
 },
 "nbformat": 4,
 "nbformat_minor": 2
}
