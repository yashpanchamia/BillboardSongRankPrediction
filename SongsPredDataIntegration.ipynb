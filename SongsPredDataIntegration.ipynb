{
 "cells": [
  {
   "cell_type": "code",
   "execution_count": null,
   "metadata": {
    "collapsed": true
   },
   "outputs": [],
   "source": [
    "import pandas as pd\n",
    "\n",
    "df1=pd.read_csv('Billboard2017Songs.csv')\n",
    "df1=df1.apply(lambda x:x.astype(str).str.lower())\n",
    "\n",
    "df2=pd.read_csv('SongReleased2017WithFeatures.csv')\n",
    "df2=df2.apply(lambda x:x.astype(str).str.lower())\n",
    "\n",
    "df1.insert(loc=3,column='Label',value='Yes')\n",
    "\n",
    "df2=df2.drop_duplicates(['Name','Artists'],keep='first').reset_index(drop=True)\n",
    "\n",
    "df3=pd.merge(df1,df2,how='right',on=['Name','Artists'])\n",
    "\n",
    "df3.Label=(df3.Label).astype(str)\n",
    "df3.Label=df3.Label.replace('nan','No')\n",
    "for column in df3:\n",
    "    if column=='Unnamed: 0_x' or column=='Unnamed: 0_y':\n",
    "        df3=df3.drop([column],axis=1)\n",
    "df3.to_csv('SongsPred.csv')"
   ]
  }
 ],
 "metadata": {
  "kernelspec": {
   "display_name": "Python 3",
   "language": "python",
   "name": "python3"
  },
  "language_info": {
   "codemirror_mode": {
    "name": "ipython",
    "version": 3
   },
   "file_extension": ".py",
   "mimetype": "text/x-python",
   "name": "python",
   "nbconvert_exporter": "python",
   "pygments_lexer": "ipython3",
   "version": "3.6.1"
  }
 },
 "nbformat": 4,
 "nbformat_minor": 2
}
